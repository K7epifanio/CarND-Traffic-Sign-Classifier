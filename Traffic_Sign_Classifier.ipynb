{
 "cells": [
  {
   "cell_type": "markdown",
   "metadata": {
    "deletable": true,
    "editable": true
   },
   "source": [
    "# Self-Driving Car Engineer Nanodegree\n",
    "\n",
    "## Deep Learning\n",
    "\n",
    "## Project: Build a Traffic Sign Recognition Classifier\n",
    "\n",
    "[Write up template](https://github.com/udacity/CarND-Traffic-Sign-Classifier-Project/blob/master/writeup_template.md) for this project\n",
    "\n",
    "[Rubric points](https://review.udacity.com/#!/rubrics/481/view) for this project.\n",
    "\n",
    "- - -\n",
    "## Step 0: Load The Data"
   ]
  },
  {
   "cell_type": "code",
   "execution_count": null,
   "metadata": {
    "collapsed": false,
    "deletable": true,
    "editable": true
   },
   "outputs": [],
   "source": [
    "# Load pickled data\n",
    "import pickle\n",
    "\n",
    "\n",
    "# Paths to files with dataset\n",
    "training_file   = 'traffic-signs-data/train.p'\n",
    "validation_file = 'traffic-signs-data/valid.p'\n",
    "testing_file    = 'traffic-signs-data/test.p'\n",
    "\n",
    "with open(training_file, mode = 'rb') as f:\n",
    "    train = pickle.load(f)\n",
    "with open(validation_file, mode = 'rb') as f:\n",
    "    valid = pickle.load(f)\n",
    "with open(testing_file, mode = 'rb') as f:\n",
    "    test = pickle.load(f)\n",
    "    \n",
    "X_train, y_train = train['features'], train['labels']\n",
    "X_valid, y_valid = valid['features'], valid['labels']\n",
    "X_test, y_test = test['features'], test['labels']"
   ]
  },
  {
   "cell_type": "markdown",
   "metadata": {
    "deletable": true,
    "editable": true
   },
   "source": [
    "---\n",
    "\n",
    "## Step 1: Dataset Summary & Exploration\n",
    "\n",
    "The pickled data is a dictionary with 4 key/value pairs:\n",
    "\n",
    "- `'features'` is a 4D array containing raw pixel data of the traffic sign images, (num examples, width, height, channels).\n",
    "- `'labels'` is a 1D array containing the label/class id of the traffic sign. The file `signnames.csv` contains id -> name mappings for each id.\n",
    "- `'sizes'` is a list containing tuples, (width, height) representing the original width and height the image.\n",
    "- `'coords'` is a list containing tuples, (x1, y1, x2, y2) representing coordinates of a bounding box around the sign in the image. **THESE COORDINATES ASSUME THE ORIGINAL IMAGE. THE PICKLED DATA CONTAINS RESIZED VERSIONS (32 by 32) OF THESE IMAGES**\n",
    "\n",
    "Data summary is represented below.\n",
    "For this task used python, numpy and pandas methods to calculate the data summary.<br>\n",
    "The [pandas shape method](http://pandas.pydata.org/pandas-docs/stable/generated/pandas.DataFrame.shape.html) is useful for calculating some of the summary results. \n",
    "\n",
    "### Provide a Basic Summary of the Data Set Using Python, Numpy and/or Pandas"
   ]
  },
  {
   "cell_type": "code",
   "execution_count": null,
   "metadata": {
    "collapsed": false,
    "deletable": true,
    "editable": true
   },
   "outputs": [],
   "source": [
    "import pandas as pd\n",
    "\n",
    "\n",
    "# Number of training examples\n",
    "# shape = (34799, 32, 32, 3)\n",
    "n_train = X_train.shape[0]\n",
    "\n",
    "# Number of testing examples\n",
    "# shape = (12630, 32, 32, 3)\n",
    "n_test = X_test.shape[0]\n",
    "\n",
    "# Shape of an traffic sign image\n",
    "# Taking first image from testing set and getting it's shape\n",
    "image_shape = X_train[0].shape\n",
    "\n",
    "# How many unique classes/labels there are in the dataset.\n",
    "classes_file = 'signnames.csv'\n",
    "with open(classes_file, mode = 'rb') as f:\n",
    "    classes = pd.read_csv(f)\n",
    "n_classes = classes.shape[0]\n",
    "\n",
    "print(\"Number of training examples = {}\".format(len(X_train)))\n",
    "print(\"Number of testing examples = {}\".format(len(X_test)))\n",
    "\n",
    "print(\"Image data shape = {}\".format(image_shape))\n",
    "print(\"Number of classes = {}\".format(n_classes))"
   ]
  },
  {
   "cell_type": "markdown",
   "metadata": {
    "deletable": true,
    "editable": true
   },
   "source": [
    "### Include an exploratory visualization of the dataset\n",
    "\n",
    "Visualization of the German Traffic Signs Dataset using the pickled files: plotting traffic sign images, plotting the count of each sign in different datasets.\n",
    "\n",
    "The [Matplotlib](http://matplotlib.org/) [examples](http://matplotlib.org/examples/index.html) and [gallery](http://matplotlib.org/gallery.html) pages are a great resource for doing visualizations in Python."
   ]
  },
  {
   "cell_type": "code",
   "execution_count": null,
   "metadata": {
    "collapsed": false,
    "deletable": true,
    "editable": true
   },
   "outputs": [],
   "source": [
    "# Data exploration visualization code goes here.\n",
    "import matplotlib.pyplot as plt\n",
    "# Visualizations will be shown in the notebook.\n",
    "%matplotlib inline\n",
    "\n",
    "\n",
    "# Get sign description by it's index (label)\n",
    "# 'index' - sign index\n",
    "def get_sign_label(index):\n",
    "    # Looking for sign with proper index\n",
    "    for sign_class in sign_dict:\n",
    "        if sign_class[0] == index:\n",
    "            return sign_class[1]\n",
    "    return('Index not found')\n",
    "\n",
    "# Count how many times class represented inside dataset\n",
    "# 'index' - sign index\n",
    "# 'dataset' - dictionary with sign labels\n",
    "def count_class(index, dataset):\n",
    "    count = 0\n",
    "    for c in dataset:\n",
    "        if c == index:\n",
    "            count += 1\n",
    "    return count\n",
    "\n",
    "# Find picture index in validation set \n",
    "# Validation set is small and search operation will be faster\n",
    "def find_pic_id(index):\n",
    "    for i in range(len(y_valid)):\n",
    "        if y_valid[i] == index:\n",
    "            return i\n",
    "    # If result not found\n",
    "    return None\n",
    "\n",
    "\n",
    "# Convert Pandas data frame to Numpy array\n",
    "sign_dict = classes.as_matrix()\n",
    "\n",
    "# Figure size\n",
    "plt.figure(figsize=(20, 25))\n",
    "\n",
    "# Pass through the all classes\n",
    "for num_model in range(n_classes):\n",
    "    # Get sign class Id\n",
    "    sign_class_id = sign_dict[num_model, 0]\n",
    "    \n",
    "    # Count number of classes in training set\n",
    "    class_count_train = count_class(sign_class_id, y_train)\n",
    "    # Count number of classes in validation set\n",
    "    class_count_valid = count_class(sign_class_id, y_valid)\n",
    "    # Count number of classes in test set\n",
    "    class_count_test = count_class(sign_class_id, y_test)\n",
    "\n",
    "    # Find picture id in validation set\n",
    "    pic_id = find_pic_id(sign_class_id)\n",
    "   \n",
    "    # Plot subplots\n",
    "    # Each subplot - one sign class with title\n",
    "    plt.subplot(9, 5, num_model + 1)\n",
    "    title = \"{0} \\nTraining set: {1}\\n Validation set: {2}\\n Test set: {3}\".format(\n",
    "        get_sign_label(y_valid[pic_id]),\n",
    "        class_count_train,\n",
    "        class_count_valid,\n",
    "        class_count_test)\n",
    "    plt.title(title, wrap=True)\n",
    "    plt.imshow(X_valid[pic_id])\n",
    "    \n",
    "# Auto layout\n",
    "plt.tight_layout()\n",
    "#plt.savefig('01-dataset-summary.png')"
   ]
  },
  {
   "cell_type": "markdown",
   "metadata": {
    "deletable": true,
    "editable": true
   },
   "source": [
    "----\n",
    "\n",
    "## Step 2: Design and Test a Model Architecture\n",
    "\n",
    "Design and implement a deep learning model that learns to recognize traffic signs.<br>\n",
    "Training and testint the model on the [German Traffic Sign Dataset](http://benchmark.ini.rub.de/?section=gtsrb&subsection=dataset).\n",
    "\n",
    "The LeNet-5 implementation shown in the [classroom](https://classroom.udacity.com/nanodegrees/nd013/parts/fbf77062-5703-404e-b60c-95b78b2f3f9e/modules/6df7ae49-c61c-4bb2-a23e-6527e69209ec/lessons/601ae704-1035-4287-8b11-e2c2716217ad/concepts/d4aca031-508f-4e0b-b493-e7b706120f81) at the end of the CNN lesson is a solid starting point.\n",
    "\n",
    "With the LeNet-5 solution, I've got a validation set accuracy of about 0.89. To meet specifications, the validation set accuracy will need to be at least 0.93. It is possible to get an even higher accuracy, but 0.93 is the minimum for a successful project submission.\n",
    "\n",
    "There are various aspects to consider when thinking about this problem:\n",
    "\n",
    "- Neural network architecture (is the network over or underfitting?)\n",
    "- Apply preprocessing techniques (normalization, rgb to grayscale, etc)\n",
    "- Number of examples per label (some have more than others).\n",
    "- Generate fake data.\n",
    "\n",
    "Here is an example of a [published baseline model on this problem](http://yann.lecun.com/exdb/publis/pdf/sermanet-ijcnn-11.pdf). It's not required to be familiar with the approach used in the paper but, it's good practice to try to read papers like these.\n",
    "\n",
    "### Pre-process the Data Set\n",
    "1. Shuffle the training data.<br>\n",
    "2. AUGMENTATION: Increase 2 times the training set. Second part of training set will be a rotated (-10 degrees counterclock-wise) and zoomed (ratio = 1.25) images from first part.<br>\n",
    "3. Apply grayscale filter for all datasets.<br>\n",
    "4. Apply normalization filter (cv.NORM_MINMAX) for all datasets."
   ]
  },
  {
   "cell_type": "code",
   "execution_count": null,
   "metadata": {
    "collapsed": false,
    "deletable": true,
    "editable": true
   },
   "outputs": [],
   "source": [
    "from sklearn.utils import shuffle\n",
    "import numpy as np\n",
    "import cv2\n",
    "\n",
    "\n",
    "X_train, y_train = shuffle(X_train, y_train)\n",
    "\n",
    "# Generate more training examples - AUGMENTATION\n",
    "def right_rotate(X_data, y_data):\n",
    "    bat_x = []\n",
    "    bat_y = []\n",
    "    angle = 10\n",
    "    for i in range(0, len(X_data)):\n",
    "        image = X_data[i]\n",
    "        num_rows, num_cols = image.shape[:2]\n",
    "        rotation_matrix = cv2.getRotationMatrix2D((num_cols/2, num_rows/2), 10, 1.25)\n",
    "        img_rotation = cv2.warpAffine(image, rotation_matrix, (num_cols, num_rows))\n",
    "        bat_x.append(img_rotation)\n",
    "        bat_y.append(y_data[i])\n",
    "    return bat_x, bat_y\n",
    "\n",
    "\n",
    "# Convert RGB to Grayscale:\n",
    "def convert_to_grayscale(X_data):\n",
    "    bat = []\n",
    "    for i in range(0, len(X_data)):\n",
    "        image = cv2.cvtColor(X_data[i], cv2.COLOR_RGB2GRAY)\n",
    "        bat.append(image)\n",
    "    X_data = np.reshape(bat, (-1, 32, 32, 1))\n",
    "    return X_data\n",
    "\n",
    "# Normalization:\n",
    "def normalize(X_data):\n",
    "    bat = []\n",
    "    for i in range(0, len(X_data)):\n",
    "        image = X_data[i]\n",
    "        cv2.normalize(image, image, 0, 10, norm_type=cv2.NORM_MINMAX)\n",
    "        bat.append(image)\n",
    "    X_data = bat\n",
    "    return X_data\n",
    "\n",
    "\n",
    "# Control #1 (before filtering)\n",
    "# Plot result\n",
    "plt.figure(figsize=(10, 10))\n",
    "plt.subplot(1, 5, 1)\n",
    "plt.title(\"Original image\", wrap=True)\n",
    "plt.imshow(X_train[0])\n",
    "\n",
    "# Rotate and scale\n",
    "X_train_r, y_train_r = right_rotate(X_train, y_train)\n",
    "plt.subplot(1, 5, 2)\n",
    "plt.title(\"Rotation:\\n -10 deg.\", wrap=True)\n",
    "plt.imshow(X_train_r[0])\n",
    "m_X = []\n",
    "m_y = []\n",
    "m_X.extend(X_train)\n",
    "m_X.extend(X_train_r)\n",
    "m_y.extend(y_train)\n",
    "m_y.extend(y_train_r)\n",
    "X_train = m_X\n",
    "y_train = m_y\n",
    "print(\"Number of augmented training examples = {}\".format(len(X_train_r)))\n",
    "\n",
    "# Filter #1 - convert RGB to Grayscale\n",
    "X_train = convert_to_grayscale(X_train)\n",
    "X_valid = convert_to_grayscale(X_valid)\n",
    "X_test = convert_to_grayscale(X_test)\n",
    "# Control #2 (after filter #1)\n",
    "plt.subplot(1, 5, 3)\n",
    "plt.title(\"Filter 1:\\n RGB-to-Grayscale\", wrap=True)\n",
    "plt.imshow(np.reshape(X_train[0], (32, 32)), cmap='gray')\n",
    "\n",
    "# Filter #2 - normalize\n",
    "X_train = normalize(X_train)\n",
    "X_valid = normalize(X_valid)\n",
    "X_test = normalize(X_test)\n",
    "# Control #3\n",
    "plt.subplot(1, 5, 4)\n",
    "plt.title(\"Filter 2:\\n Normalize\", wrap=True)\n",
    "plt.imshow(np.reshape(X_train[0], (32, 32)), cmap='gray')\n",
    "\n",
    "# Control #4\n",
    "plt.subplot(1, 5, 5)\n",
    "plt.title(\"Example from\\n augmented training set\", wrap=True)\n",
    "plt.imshow(np.reshape(X_train[34799], (32, 32)), cmap='gray')\n",
    "\n",
    "plt.tight_layout()\n",
    "print(\"Number of training examples = {}\".format(len(X_train)))\n",
    "#plt.savefig('02-dataset-preprocessing.png')"
   ]
  },
  {
   "cell_type": "markdown",
   "metadata": {
    "deletable": true,
    "editable": true
   },
   "source": [
    "### Model Architecture\n",
    "The EPOCHS and BATCH_SIZE values affect the training speed and model accuracy."
   ]
  },
  {
   "cell_type": "code",
   "execution_count": null,
   "metadata": {
    "collapsed": true,
    "deletable": true,
    "editable": true
   },
   "outputs": [],
   "source": [
    "import tensorflow as tf\n",
    "\n",
    "EPOCHS = 10\n",
    "BATCH_SIZE = 128"
   ]
  },
  {
   "cell_type": "markdown",
   "metadata": {
    "deletable": true,
    "editable": true
   },
   "source": [
    "This solution based on LeNet-5 architecture (modification).\n",
    "\n",
    "### Input\n",
    "The LeNet architecture accepts a 32x32x<b>C</b> image as input, where <b>C</b> is the number of color channels.<br>\n",
    "By default dataset images are <b>RGB</b>, <b>C = 3</b> in this case.<br>\n",
    "After an <b>RGB to grayscale</b> transform, <b>C = 1</b>.\n",
    "\n",
    "### Architecture\n",
    "<table>\n",
    "<tr><td>**Layer**</td>\n",
    "<td>**Description**</td></tr>\n",
    "<tr><td>**Layer 1: Convolutional**</td>\n",
    "<td>Output shape is 28x28x6</td></tr>\n",
    "<tr><td>**Activation: ReLU**</td>\n",
    "<td>ReLU - a rectified linear unit</td></tr>\n",
    "<tr><td>**Pooling**</td>\n",
    "<td>Output shape is 14x14x6</td></tr>\n",
    "<tr><td>**Layer 2: Convolutional**</td>\n",
    "<td>Output shape is 10x10x16</td></tr>\n",
    "<tr><td>**Activation: ReLU**</td>\n",
    "<td>ReLU - a rectified linear unit</td></tr>\n",
    "<tr><td>**Pooling**</td>\n",
    "<td>Output shape is 5x5x16</td></tr>\n",
    "<tr><td>**Flatten**</td>\n",
    "<td>Flatten the output shape of the final pooling layer such that it's 1D instead of 3D. The easiest way to do it is using<br> <i>tf.contrib.layers.flatten</i>. Transform to vector with 400 output elements.</td></tr>\n",
    "<tr><td>**Layer 3: Fully connected**</td>\n",
    "<td> 120 outputs</td></tr>\n",
    "<tr><td>**Activation: ReLU**</td>\n",
    "<td>ReLU - a rectified linear unit</td></tr>\n",
    "<tr><td>**Dropout operation**</td>\n",
    "<td></td></tr>\n",
    "<tr><td>**Layer 4: Fully connected**</td>\n",
    "<td>84 outputs</td></tr>\n",
    "<tr><td>**Activation: ReLU**</td>\n",
    "<td>ReLU - a rectified linear unit</td></tr>\n",
    "<tr><td>**Dropout operation**</td>\n",
    "<td></td></tr>\n",
    "<tr><td>**Layer 5: Fully Connected (Logits)**</td>\n",
    "<td>43 outputs</td></tr>\n",
    "</table>\n",
    "\n",
    "\n",
    "### Output\n",
    "Return the result of the 2-nd fully conected layer."
   ]
  },
  {
   "cell_type": "code",
   "execution_count": null,
   "metadata": {
    "collapsed": true,
    "deletable": true,
    "editable": true
   },
   "outputs": [],
   "source": [
    "from tensorflow.contrib.layers import flatten\n",
    "\n",
    "def LeNet(x):\n",
    "    # Hyperparameters.Used for tf.truncated_normal: randomly define variables \n",
    "    # for the weights and biases for each layer\n",
    "    mu = 0\n",
    "    sigma = 0.1\n",
    "    \n",
    "    # Layer 1. Convolutional\n",
    "    # Input = 32x32x3\n",
    "    # output_height = (input_height - filter_height + Padding)/Stride = (32 - 5 + 1) / 1 = 28\n",
    "    # output_width = (input_width - filter_width + Padding)/Stride = (32 - 5 + 1) / 1 = 28\n",
    "    # Output = 28x28x6\n",
    "    # filter 'shape' = (height, width, input_depth, output_depth)\n",
    "    conv1_w = tf.Variable(tf.truncated_normal(shape = (5, 5, 1, 6), mean = mu, stddev = sigma))\n",
    "    conv1_b = tf.Variable(tf.zeros(6))\n",
    "    # strides = [batch, height, width, depth]\n",
    "    conv1 = tf.nn.conv2d(x, conv1_w, strides = [1, 1, 1, 1], padding = 'VALID', name='conv1') + conv1_b\n",
    "    \n",
    "    # Activation\n",
    "    conv1 = tf.nn.relu(conv1, name='conv1_relu')\n",
    "    \n",
    "    # Pooling\n",
    "    # Input = 28x28x6\n",
    "    # output_height = ((input_height - filter_height) / Stride) + 1 = (28 - 2 / 2) + 1 = 14\n",
    "    # output_width = ((input_height - filter_height) / Stride) + 1 = (28 - 2 / 2) + 1 = 14\n",
    "    # Output = 14x14x6\n",
    "    # Kernel size - 'ksize' = [batch, height, width, depth]\n",
    "    conv1 = tf.nn.max_pool(conv1, ksize = [1, 2, 2, 1], strides = [1, 2, 2, 1], padding = 'VALID', name='conv1_pool')\n",
    "    \n",
    "    # Layer 2. Convolutional\n",
    "    # Input = 14x14x6 -> Output = 10x10x16\n",
    "    conv2_w = tf.Variable(tf.truncated_normal(shape = (5, 5, 6, 16), mean = mu, stddev = sigma))\n",
    "    conv2_b = tf.Variable(tf.zeros(16))\n",
    "    conv2 = tf.nn.conv2d(conv1, conv2_w, strides = [1, 1, 1, 1], padding = 'VALID', name='conv2') + conv2_b\n",
    "    \n",
    "    # Activation\n",
    "    conv2 = tf.nn.relu(conv2, name='conv2_relu')\n",
    "    \n",
    "    # Pooling\n",
    "    # Input = 10x10x16 -> Output = 5x5x16\n",
    "    conv2 = tf.nn.max_pool(conv2, ksize = [1, 2, 2, 1], strides = [1, 2, 2, 1], padding = 'VALID', name='conv2_pool')\n",
    "    \n",
    "    # Flatten\n",
    "    # Input = 5x5x16 -> Output = 400\n",
    "    fc0 = flatten(conv2)\n",
    "    \n",
    "    # Layer 3. Fully connected\n",
    "    # Input = 400 -> Output = 120\n",
    "    fc1_w = tf.Variable(tf.truncated_normal(shape = (400, 120), mean = mu, stddev = sigma))\n",
    "    fc1_b = tf.Variable(tf.zeros(120))\n",
    "    fc1 = tf.matmul(fc0, fc1_w, name='fc1') + fc1_b\n",
    "    \n",
    "    # Activation\n",
    "    fc1 = tf.nn.relu(fc1, name='fc1_relu')\n",
    "    # Dropout\n",
    "    fc1 = tf.nn.dropout(fc1, keep_prob, name='fc1_dropout')\n",
    "    \n",
    "    # Layer 4. Fully connected\n",
    "    # Input = 120 -> Output = 84\n",
    "    fc2_w = tf.Variable(tf.truncated_normal(shape = (120, 84), mean = mu, stddev = sigma))\n",
    "    fc2_b = tf.Variable(tf.zeros(84))\n",
    "    fc2 = tf.matmul(fc1, fc2_w, name='fc2') + fc2_b\n",
    "    \n",
    "    # Activation\n",
    "    fc2 = tf.nn.relu(fc2, name='fc2_relu')\n",
    "    # Dropout\n",
    "    fc2 = tf.nn.dropout(fc2, keep_prob, name='fc2_dropout')\n",
    "    \n",
    "    # Layer 5. Fully connected\n",
    "    # Input = 84 -> Output = 43 (Number of classes)\n",
    "    fc3_w = tf.Variable(tf.truncated_normal(shape = (84, 43), mean = mu, stddev = sigma))\n",
    "    fc3_b = tf.Variable(tf.zeros(43))\n",
    "    logits = tf.matmul(fc2, fc3_w, name='logits') + fc3_b\n",
    "    \n",
    "    return logits"
   ]
  },
  {
   "cell_type": "markdown",
   "metadata": {
    "deletable": true,
    "editable": true
   },
   "source": [
    "### Train, Validate and Test the Model\n",
    "A validation set can be used to assess how well the model is performing. A <b>low accuracy</b> on the training and validation\n",
    "sets imply <b>underfitting</b>. A <b>high accuracy</b> on the training set but low accuracy on the validation set implies <b>overfitting</b>.\n",
    "\n",
    "### Features and Labels\n",
    "\n",
    "<b>x</b> is a placeholder for a batch of <b>input images</b><br>\n",
    "<b>y</b> is a placeholder for a batch of <b>output labels</b><br>\n",
    "<b>keep_prob</b> is a probability to keep units during dropout operation"
   ]
  },
  {
   "cell_type": "code",
   "execution_count": null,
   "metadata": {
    "collapsed": true,
    "deletable": true,
    "editable": true
   },
   "outputs": [],
   "source": [
    "# Placeholder to store input batches\n",
    "# (BATCH_SIZE, height, width, depth)\n",
    "x = tf.placeholder(tf.float32, (None, 32, 32, 1))\n",
    "\n",
    "# Placeholder for labels\n",
    "y = tf.placeholder(tf.int32, (None))\n",
    "\n",
    "# One-hot encoding of labels\n",
    "one_hot_y = tf.one_hot(y, 43)\n",
    "\n",
    "# Probability to keep units\n",
    "keep_prob = tf.placeholder(tf.float32)"
   ]
  },
  {
   "cell_type": "markdown",
   "metadata": {
    "deletable": true,
    "editable": true
   },
   "source": [
    "### Training Pipeline"
   ]
  },
  {
   "cell_type": "code",
   "execution_count": null,
   "metadata": {
    "collapsed": false,
    "deletable": true,
    "editable": true
   },
   "outputs": [],
   "source": [
    "# Learning rate\n",
    "rate = 0.001\n",
    "\n",
    "# Pass input data to the LeNet function\n",
    "logits = LeNet(x)\n",
    "\n",
    "# Compare logits to the ground-truth labels and calculate the cross entropy\n",
    "# Cross entopy is a measure how different the logits\n",
    "# are from the ground-truth training labels\n",
    "cross_entropy = tf.nn.softmax_cross_entropy_with_logits(logits = logits, labels = one_hot_y)\n",
    "# Average the cross entropy from all the training images\n",
    "loss_operation = tf.reduce_mean(cross_entropy)\n",
    "# Use Adam algorithm (alternative of stochastic gradient descent)\n",
    "optimizer = tf.train.AdamOptimizer(learning_rate = rate)\n",
    "# Optimizer uses backpropagation to update the network and minimize training loss\n",
    "training_operation = optimizer.minimize(loss_operation)"
   ]
  },
  {
   "cell_type": "markdown",
   "metadata": {
    "deletable": true,
    "editable": true
   },
   "source": [
    "### Model Evaluation\n",
    "Evaluate how well the <b>loss</b> and <b>accuracy</b> of the model for a given dataset."
   ]
  },
  {
   "cell_type": "code",
   "execution_count": null,
   "metadata": {
    "collapsed": true,
    "deletable": true,
    "editable": true
   },
   "outputs": [],
   "source": [
    "# Compare the logit prediction to the one hot encoded ground-truth label\n",
    "correct_prediction = tf.equal(tf.argmax(logits, 1), tf.argmax(one_hot_y, 1))\n",
    "# Calculate the model's overall accuracy by averaging the individual prediction accuracies\n",
    "accuracy_operation = tf.reduce_mean(tf.cast(correct_prediction, tf.float32))\n",
    "\n",
    "def evaluate(X_data, y_data):\n",
    "    num_examples = len(X_data)\n",
    "    total_accuracy = 0\n",
    "    sess = tf.get_default_session()\n",
    "    for offset in range(0, num_examples, BATCH_SIZE):\n",
    "        batch_x, batch_y = X_data[offset:offset+BATCH_SIZE], y_data[offset:offset+BATCH_SIZE]\n",
    "        accuracy = sess.run(accuracy_operation, feed_dict = {x: batch_x, y: batch_y, keep_prob: 1.0})\n",
    "        total_accuracy += (accuracy * len(batch_x))\n",
    "    return total_accuracy / num_examples"
   ]
  },
  {
   "cell_type": "markdown",
   "metadata": {
    "deletable": true,
    "editable": true
   },
   "source": [
    "### Train the Model\n",
    "Calculate and report the accuracy on the training and validation set.<br>\n",
    "1. Run the training data through the training pipeline to train the model.<br>\n",
    "2. <b>Before</b> each epoch, shuffle the training set.<br>\n",
    "3. <b>After</b> each epoch, measure the loss and accuracy of the validation set.<br>\n",
    "4. <b>Save</b> the model after training."
   ]
  },
  {
   "cell_type": "code",
   "execution_count": null,
   "metadata": {
    "collapsed": false,
    "deletable": true,
    "editable": true
   },
   "outputs": [],
   "source": [
    "# Create the TensorFlow session and Initialize the variables\n",
    "with tf.Session() as sess:\n",
    "    sess.run(tf.global_variables_initializer())\n",
    "    num_examples = len(X_train)\n",
    "    \n",
    "    print(\"Training in progress...\")\n",
    "    print()\n",
    "    for i in range(EPOCHS):\n",
    "        # Shuffle the training data to ensure that trainint isn't biased\n",
    "        # by the order of the images\n",
    "        X_train, y_train = shuffle(X_train, y_train)\n",
    "        # Break training data into batches and train the model on the each batch\n",
    "        for offset in range(0, num_examples, BATCH_SIZE):\n",
    "            end = offset + BATCH_SIZE\n",
    "            batch_x, batch_y = X_train[offset:end], y_train[offset:end]\n",
    "            sess.run(training_operation, feed_dict = {x: batch_x, y: batch_y, keep_prob: 0.75})\n",
    "        \n",
    "        # In the end of each EPOCH evaluate the model on validation data\n",
    "        training_accuracy = evaluate(X_train, y_train)\n",
    "        validation_accuracy = evaluate(X_valid, y_valid)\n",
    "        print(\"EPOCH {0} ...\".format(i + 1))\n",
    "        print(\"Training Accuracy = {:.5f}\".format(training_accuracy))\n",
    "        print(\"Validation Accuracy = {:.5f}\".format(validation_accuracy))\n",
    "        print()\n",
    "    \n",
    "    # Save the model\n",
    "    try:\n",
    "        saver\n",
    "    except NameError:\n",
    "        saver = tf.train.Saver()\n",
    "    saver.save(sess, 'lenet_sign_classifier')\n",
    "    print(\"Model saved\")"
   ]
  },
  {
   "cell_type": "markdown",
   "metadata": {
    "deletable": true,
    "editable": true
   },
   "source": [
    "## Evaluate the Model\n",
    "Evaluate the performance of the model on the test set."
   ]
  },
  {
   "cell_type": "code",
   "execution_count": null,
   "metadata": {
    "collapsed": false,
    "deletable": true,
    "editable": true
   },
   "outputs": [],
   "source": [
    "saver = tf.train.Saver()\n",
    "with tf.Session() as sess:\n",
    "    saver.restore(sess, tf.train.latest_checkpoint('.'))\n",
    "    test_accuracy = evaluate(X_test, y_test)\n",
    "    print(\"Test Accuracy = {:.5f}\".format(test_accuracy))"
   ]
  },
  {
   "cell_type": "markdown",
   "metadata": {
    "deletable": true,
    "editable": true
   },
   "source": [
    "---\n",
    "\n",
    "## Step 3: Test a Model on New Images\n",
    "\n",
    "To give yourself more insight into how model is working, download at least five pictures of German traffic signs from the web (8 signs downloaded) and use the model to predict the traffic sign type.\n",
    "\n",
    "The file `signnames.csv` is useful as it contains mappings from the class id (integer) to the actual sign name.\n",
    "\n",
    "### Load and Output the Images"
   ]
  },
  {
   "cell_type": "code",
   "execution_count": null,
   "metadata": {
    "collapsed": false,
    "deletable": true,
    "editable": true,
    "scrolled": true
   },
   "outputs": [],
   "source": [
    "import os\n",
    "import matplotlib.pyplot as plt\n",
    "import cv2\n",
    "\n",
    "X_web = []\n",
    "path = \"web-sign-examples/\"\n",
    "web_img_list = os.listdir(path)\n",
    "# Read all images from web-sign-examples folder\n",
    "for img_name in web_img_list:\n",
    "    if (img_name[-3:] == 'jpg'): \n",
    "        image_BGR = cv2.imread(path + img_name)\n",
    "        image_RGB = cv2.cvtColor(image_BGR, cv2.COLOR_BGR2RGB)\n",
    "        # Resize all images to 32x32x3\n",
    "        resize_image = cv2.resize(image_RGB, (32, 32)) \n",
    "        X_web.append(resize_image)\n",
    "\n",
    "# Add class labels for images\n",
    "y_web = [18, 9, 0, 26, 14, 12, 13, 33]\n",
    "\n",
    "# Plot images with class names\n",
    "# Each subplot - one sign class with title\n",
    "plt.figure(figsize=(8, 8))\n",
    "for i in range(len(X_web)):\n",
    "    plt.subplot(4, 4, i + 1)\n",
    "    title = get_sign_label(y_web[i])\n",
    "    plt.title(title, wrap=True)\n",
    "    plt.imshow(X_web[i])\n",
    "plt.tight_layout()\n",
    "#plt.savefig('03-web-dataset.png')"
   ]
  },
  {
   "cell_type": "markdown",
   "metadata": {
    "deletable": true,
    "editable": true
   },
   "source": [
    "### Predict the Sign Type for Each Image\n",
    "#### Preprocessing"
   ]
  },
  {
   "cell_type": "code",
   "execution_count": null,
   "metadata": {
    "collapsed": false,
    "deletable": true,
    "editable": true
   },
   "outputs": [],
   "source": [
    "plt.figure(figsize=(6, 6))\n",
    "# Original image from web set\n",
    "plt.subplot(1, 3, 1)\n",
    "plt.title(\"Original image\", wrap=True)\n",
    "plt.imshow(X_web[0])\n",
    "\n",
    "# Filter #1 - convert RGB to Grayscale\n",
    "X_web = convert_to_grayscale(X_web)\n",
    "# Plot image after filter #1\n",
    "plt.subplot(1, 3, 2)\n",
    "plt.title(\"Filter 1:\\n RGB-to-Grayscale\", wrap=True)\n",
    "plt.imshow(np.reshape(X_web[0], (32, 32)), cmap='gray')\n",
    "\n",
    "# Filter #2 - normalize\n",
    "X_web = normalize(X_web)\n",
    "# Plot image after filter #2\n",
    "plt.subplot(1, 3, 3)\n",
    "plt.title(\"Filter 2:\\n Normalize\", wrap=True)\n",
    "plt.imshow(np.reshape(X_web[0], (32, 32)), cmap='gray')\n",
    "plt.tight_layout()\n",
    "#plt.savefig('04-web-dataset-preprocessing.png')"
   ]
  },
  {
   "cell_type": "markdown",
   "metadata": {
    "deletable": true,
    "editable": true
   },
   "source": [
    "### Run the predictions and use the model to output the prediction for each image.\n",
    "<i>Images were pre-processed with the same pre-processing pipeline used earlier.</i>"
   ]
  },
  {
   "cell_type": "code",
   "execution_count": null,
   "metadata": {
    "collapsed": false,
    "deletable": true,
    "editable": true
   },
   "outputs": [],
   "source": [
    "from IPython.core.display import display, HTML\n",
    "\n",
    "\n",
    "softmax = tf.nn.softmax(logits)\n",
    "pred = tf.nn.top_k(softmax, 1)\n",
    "\n",
    "with tf.Session() as sess:\n",
    "    saver.restore(sess, tf.train.latest_checkpoint('.'))\n",
    "    logits_web = sess.run(logits, feed_dict={x: X_web, keep_prob:1})\n",
    "    \n",
    "    # Print Real Labels and Predictions\n",
    "    table_body = \"\"\n",
    "    for i in range(len(logits_web)):\n",
    "        real_title = get_sign_label(y_web[i])\n",
    "        pred_title = get_sign_label(np.argmax(logits_web[i]))\n",
    "        is_correct = (y_web[i] == np.argmax(logits_web[i]))\n",
    "        table_header = \"<table><tr><td><b>Original title</b></td><td><b>Predicted title</b> \\\n",
    "                        </td><td><b>Prediction result</b></td></tr>\"\n",
    "        table_body += \"<tr><td>{0}</td><td>{1}</td><td>{2}</td></tr>\".format(real_title, pred_title, is_correct)\n",
    "        table_footer = \"</table>\"\n",
    "    display(HTML(\n",
    "        table_header + table_body + table_footer\n",
    "    ))"
   ]
  },
  {
   "cell_type": "markdown",
   "metadata": {
    "deletable": true,
    "editable": true
   },
   "source": [
    "### Analyze Performance\n",
    "Calculate the accuracy for new images.<br>\n",
    "For example, if the model predicted 1 out of 5 signs correctly, it's 20% accurate on these new images."
   ]
  },
  {
   "cell_type": "code",
   "execution_count": null,
   "metadata": {
    "collapsed": false,
    "deletable": true,
    "editable": true
   },
   "outputs": [],
   "source": [
    "with tf.Session() as sess:\n",
    "    saver.restore(sess, tf.train.latest_checkpoint('.'))\n",
    "    web_accuracy = evaluate(X_web, y_web)\n",
    "    print(\"Web Accuracy = {:.3f}\".format(web_accuracy))"
   ]
  },
  {
   "cell_type": "markdown",
   "metadata": {
    "deletable": true,
    "editable": true
   },
   "source": [
    "### Output Top 5 Softmax Probabilities For Each Image Found on the Web\n",
    "\n",
    "For each of the new images, print out the model's softmax probabilities to show the **certainty** of the model's predictions (limit the output to the top 5 probabilities for each image). [`tf.nn.top_k`](https://www.tensorflow.org/versions/r0.12/api_docs/python/nn.html#top_k) could prove helpful here. \n",
    "\n",
    "The example below demonstrates how tf.nn.top_k can be used to find the top k predictions for each image.\n",
    "\n",
    "`tf.nn.top_k` will return the values and indices (class ids) of the top k predictions. So if k=3, for each sign, it'll return the 3 largest probabilities (out of a possible 43) and the correspoding class ids.\n",
    "\n",
    "Take this numpy array as an example. The values in the array represent predictions. The array contains softmax probabilities for five candidate images with six possible classes. `tk.nn.top_k` is used to choose the three classes with the highest probability:\n",
    "\n",
    "```\n",
    "# (5, 6) array\n",
    "a = np.array([[ 0.24879643,  0.07032244,  0.12641572,  0.34763842,  0.07893497,\n",
    "         0.12789202],\n",
    "       [ 0.28086119,  0.27569815,  0.08594638,  0.0178669 ,  0.18063401,\n",
    "         0.15899337],\n",
    "       [ 0.26076848,  0.23664738,  0.08020603,  0.07001922,  0.1134371 ,\n",
    "         0.23892179],\n",
    "       [ 0.11943333,  0.29198961,  0.02605103,  0.26234032,  0.1351348 ,\n",
    "         0.16505091],\n",
    "       [ 0.09561176,  0.34396535,  0.0643941 ,  0.16240774,  0.24206137,\n",
    "         0.09155967]])\n",
    "```\n",
    "\n",
    "Running it through `sess.run(tf.nn.top_k(tf.constant(a), k=3))` produces:\n",
    "\n",
    "```\n",
    "TopKV2(values=array([[ 0.34763842,  0.24879643,  0.12789202],\n",
    "       [ 0.28086119,  0.27569815,  0.18063401],\n",
    "       [ 0.26076848,  0.23892179,  0.23664738],\n",
    "       [ 0.29198961,  0.26234032,  0.16505091],\n",
    "       [ 0.34396535,  0.24206137,  0.16240774]]), indices=array([[3, 0, 5],\n",
    "       [0, 1, 4],\n",
    "       [0, 5, 1],\n",
    "       [1, 3, 5],\n",
    "       [1, 4, 3]], dtype=int32))\n",
    "```\n",
    "\n",
    "Looking just at the first row we get `[ 0.34763842,  0.24879643,  0.12789202]`, you can confirm these are the 3 largest probabilities in `a`. You'll also notice `[3, 0, 5]` are the corresponding indices."
   ]
  },
  {
   "cell_type": "code",
   "execution_count": null,
   "metadata": {
    "collapsed": false,
    "deletable": true,
    "editable": true
   },
   "outputs": [],
   "source": [
    "### Print out the top five softmax probabilities for the predictions\n",
    "### on the German traffic sign images found on the web. \n",
    "softmax = tf.nn.softmax(logits)\n",
    "pred = tf.nn.top_k(softmax, 5)\n",
    "\n",
    "with tf.Session() as sess:\n",
    "    saver.restore(sess, tf.train.latest_checkpoint('.'))\n",
    "    result = sess.run(pred, feed_dict={x: X_web, keep_prob: 1.})\n",
    "    predictions  = result.values\n",
    "    predictionIndicies  = result.indices\n",
    "    np.set_printoptions(precision=5, suppress=True)\n",
    "    \n",
    "    print(\"Predictions:\\n {}\".format(predictions))\n",
    "    print(\"Labels:\\n {}\".format(predictionIndicies))"
   ]
  },
  {
   "cell_type": "markdown",
   "metadata": {
    "deletable": true,
    "editable": true
   },
   "source": [
    "---\n",
    "\n",
    "## Step 4: Visualize the Neural Network's State with Test Images\n",
    "\n",
    " This Section is not required to complete but acts as an additional excersise for understaning the output of a neural network's weights. While neural networks can be a great learning device they are often referred to as a black box. We can understand what the weights of a neural network look like better by plotting their feature maps. After successfully training your neural network you can see what it's feature maps look like by plotting the output of the network's weight layers in response to a test stimuli image. From these plotted feature maps, it's possible to see what characteristics of an image the network finds interesting. For a sign, maybe the inner network feature maps react with high activation to the sign's boundary outline or to the contrast in the sign's painted symbol.\n",
    "\n",
    " Provided for you below is the function code that allows you to get the visualization output of any tensorflow weight layer you want. The inputs to the function should be a stimuli image, one used during training or a new one you provided, and then the tensorflow variable name that represents the layer's state during the training process, for instance if you wanted to see what the [LeNet lab's](https://classroom.udacity.com/nanodegrees/nd013/parts/fbf77062-5703-404e-b60c-95b78b2f3f9e/modules/6df7ae49-c61c-4bb2-a23e-6527e69209ec/lessons/601ae704-1035-4287-8b11-e2c2716217ad/concepts/d4aca031-508f-4e0b-b493-e7b706120f81) feature maps looked like for it's second convolutional layer you could enter conv2 as the tf_activation variable.\n",
    "\n",
    "For an example of what feature map outputs look like, check out NVIDIA's results in their paper [End-to-End Deep Learning for Self-Driving Cars](https://devblogs.nvidia.com/parallelforall/deep-learning-self-driving-cars/) in the section Visualization of internal CNN State. NVIDIA was able to show that their network's inner weights had high activations to road boundary lines by comparing feature maps from an image with a clear path to one without. Try experimenting with a similar test to show that your trained network's weights are looking for interesting features, whether it's looking at differences in feature maps from images with or without a sign, or even what feature maps look like in a trained network vs a completely untrained one on the same sign image."
   ]
  },
  {
   "cell_type": "code",
   "execution_count": null,
   "metadata": {
    "collapsed": true,
    "deletable": true,
    "editable": true
   },
   "outputs": [],
   "source": [
    "# Visualize the network's feature maps.\n",
    "\n",
    "# 'image_input': the test image being fed into the network to produce the feature maps\n",
    "\n",
    "# 'tf_activation': should be a tf variable name used during your training procedure that \n",
    "#  represents the calculated state of a specific weight layer\n",
    "\n",
    "# 'activation_min/max': can be used to view the activation contrast in more detail, \n",
    "#  by default matplot sets min and max to the actual min and max values of the output\n",
    "\n",
    "# 'plt_num': used to plot out multiple different weight feature map sets on the same block, \n",
    "#  just extend the plt number for each new feature map entry\n",
    "\n",
    "\n",
    "def outputFeatureMap(image_input, tf_activation, activation_min=-1, activation_max=-1, plt_num=2):\n",
    "    # Here make sure to preprocess your image_input in a way your network expects\n",
    "    # with size, normalization, ect if needed\n",
    "    # image_input =\n",
    "    # Note: x should be the same name as your network's tensorflow data placeholder variable\n",
    "    # If you get an error tf_activation is not defined it maybe having trouble accessing the variable from inside a function\n",
    "    activation = tf_activation.eval(session=sess, feed_dict={x: image_input})\n",
    "    featuremaps = activation.shape[3]\n",
    "    plt.figure(plt_num, figsize=(15, 15))\n",
    "    for featuremap in range(featuremaps):\n",
    "        plt.subplot(6, 8, featuremap + 1) # sets the number of feature maps to show on each row and column\n",
    "        plt.title('FeatureMap ' + str(featuremap)) # displays the feature map number\n",
    "        if activation_min != -1 & activation_max != -1:\n",
    "            plt.imshow(activation[0,:,:, featuremap], interpolation=\"nearest\", vmin =activation_min, vmax=activation_max, cmap=\"gray\")\n",
    "        elif activation_max != -1:\n",
    "            plt.imshow(activation[0,:,:, featuremap], interpolation=\"nearest\", vmax=activation_max, cmap=\"gray\")\n",
    "        elif activation_min != -1:\n",
    "            plt.imshow(activation[0,:,:, featuremap], interpolation=\"nearest\", vmin=activation_min, cmap=\"gray\")\n",
    "        else:\n",
    "            plt.imshow(activation[0,:,:, featuremap], interpolation=\"nearest\", cmap=\"gray\")\n",
    "        plt.tight_layout()"
   ]
  },
  {
   "cell_type": "code",
   "execution_count": null,
   "metadata": {
    "collapsed": true
   },
   "outputs": [],
   "source": [
    "with tf.Session() as sess:\n",
    "    # Convolution (layer 1 after 'tf.nn.conv2d' operation)\n",
    "    saver.restore(sess, tf.train.latest_checkpoint('.'))\n",
    "    conv1 = sess.graph.get_tensor_by_name('conv1:0')\n",
    "    outputFeatureMap(X_web, conv1)"
   ]
  },
  {
   "cell_type": "code",
   "execution_count": null,
   "metadata": {
    "collapsed": true
   },
   "outputs": [],
   "source": [
    "with tf.Session() as sess:\n",
    "    # ReLU-activation (layer 1 after 'tf.nn.relu' operation)\n",
    "    saver.restore(sess, tf.train.latest_checkpoint('.'))\n",
    "    conv1_relu = sess.graph.get_tensor_by_name('conv1_relu:0')\n",
    "    outputFeatureMap(X_web, conv1_relu)"
   ]
  },
  {
   "cell_type": "code",
   "execution_count": null,
   "metadata": {
    "collapsed": true
   },
   "outputs": [],
   "source": [
    "with tf.Session() as sess:\n",
    "    # Max-pooling (layer 1 after 'tf.nn.max_pool' operation)\n",
    "    saver.restore(sess, tf.train.latest_checkpoint('.'))\n",
    "    conv1_pool = sess.graph.get_tensor_by_name('conv1_pool:0')\n",
    "    outputFeatureMap(X_web, conv1_pool)"
   ]
  },
  {
   "cell_type": "markdown",
   "metadata": {
    "deletable": true,
    "editable": true
   },
   "source": [
    "### Question 9\n",
    "How you used the visual output of your trained network's feature maps to show that it had learned to look for interesting characteristics in traffic sign images?\n",
    "\n",
    "### Answer:\n",
    "Let's have a look for 3 examples:\n",
    "\n",
    "<b>1. Convolution</b> (layer 1 after 'tf.nn.conv2d' operation)<br>\n",
    "It's possible to see shape of sign, but there are many background noizes.\n",
    "\n",
    "<b>2. ReLU-activation</b> (layer 1 after 'tf.nn.relu' operation)<br>\n",
    "Noize level (from backgroung objects) significantly reduced. This demonstrates that the CNN learned to detect useful traffic sign features on its own.\n",
    "\n",
    "<b>3. Max-pooling</b> (layer 1 after 'tf.nn.max_pool' operation)<br>\n",
    "Image size reduced, but important features are available"
   ]
  },
  {
   "cell_type": "code",
   "execution_count": null,
   "metadata": {
    "collapsed": true
   },
   "outputs": [],
   "source": []
  }
 ],
 "metadata": {
  "anaconda-cloud": {},
  "kernelspec": {
   "display_name": "Python 3",
   "language": "python",
   "name": "python3"
  },
  "language_info": {
   "codemirror_mode": {
    "name": "ipython",
    "version": 3
   },
   "file_extension": ".py",
   "mimetype": "text/x-python",
   "name": "python",
   "nbconvert_exporter": "python",
   "pygments_lexer": "ipython3",
   "version": "3.5.2"
  },
  "widgets": {
   "state": {},
   "version": "1.1.2"
  }
 },
 "nbformat": 4,
 "nbformat_minor": 1
}
